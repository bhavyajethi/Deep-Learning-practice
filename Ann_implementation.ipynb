{
  "nbformat": 4,
  "nbformat_minor": 0,
  "metadata": {
    "colab": {
      "provenance": [],
      "authorship_tag": "ABX9TyO1QqoLmSFVnc0m8qe8o9Ma",
      "include_colab_link": true
    },
    "kernelspec": {
      "name": "python3",
      "display_name": "Python 3"
    },
    "language_info": {
      "name": "python"
    }
  },
  "cells": [
    {
      "cell_type": "markdown",
      "metadata": {
        "id": "view-in-github",
        "colab_type": "text"
      },
      "source": [
        "<a href=\"https://colab.research.google.com/github/bhavyajethi/Deep-Learning-practice/blob/main/Untitled11.ipynb\" target=\"_parent\"><img src=\"https://colab.research.google.com/assets/colab-badge.svg\" alt=\"Open In Colab\"/></a>"
      ]
    },
    {
      "cell_type": "code",
      "execution_count": null,
      "metadata": {
        "id": "NcVRZFVKXXwA",
        "outputId": "71db43e6-2c5d-478e-b64e-d4cc625144f2",
        "colab": {
          "base_uri": "https://localhost:8080/"
        }
      },
      "outputs": [
        {
          "output_type": "stream",
          "name": "stdout",
          "text": [
            "[0.9897704]\n"
          ]
        }
      ],
      "source": [
        "from joblib.numpy_pickle_utils import xrange\n",
        "from numpy import *\n",
        "\n",
        "\n",
        "class NeuralNet(object):\n",
        "    def __init__(self):\n",
        "        # Generate random numbers\n",
        "        random.seed(1)\n",
        "\n",
        "        # Assign random weights to a 3 x 1 matrix,\n",
        "        self.synaptic_weights = 2 * random.random((3, 1)) - 1\n",
        "\n",
        "    # The Sigmoid function\n",
        "    def __sigmoid(self, x):\n",
        "        return 1 / (1 + exp(-x))\n",
        "\n",
        "    # The derivative of the Sigmoid function.\n",
        "    # This is the gradient of the Sigmoid curve.\n",
        "    def __sigmoid_derivative(self, x):\n",
        "        return x * (1 - x)\n",
        "\n",
        "    # Train the neural network and adjust the weights each time.\n",
        "    def train(self, inputs, outputs, training_iterations):\n",
        "        for iteration in xrange(training_iterations):\n",
        "            # Pass the training set through the network.\n",
        "            output = self.learn(inputs)\n",
        "\n",
        "            # Calculate the error\n",
        "            error = outputs - output\n",
        "\n",
        "            # Adjust the weights by a factor\n",
        "            factor = dot(inputs.T, error * self.__sigmoid_derivative(output))\n",
        "            self.synaptic_weights += factor\n",
        "\n",
        "        # The neural network thinks.\n",
        "\n",
        "    def learn(self, inputs):\n",
        "        return self.__sigmoid(dot(inputs, self.synaptic_weights))\n",
        "\n",
        "\n",
        "if __name__ == \"__main__\":\n",
        "    # Initialize\n",
        "    neural_network = NeuralNet()\n",
        "\n",
        "    # The training set.\n",
        "    inputs = array([[0, 1, 1], [1, 0, 0], [1, 0, 1]])\n",
        "    outputs = array([[1, 0, 1]]).T\n",
        "\n",
        "    # Train the neural network\n",
        "    neural_network.train(inputs, outputs, 10000)\n",
        "\n",
        "    # Test the neural network with a test example.\n",
        "    print(neural_network.learn(array([1, 0, 1])))"
      ]
    },
    {
      "cell_type": "code",
      "source": [
        "from joblib.numpy_pickle_utils import xrange\n",
        "from numpy import *\n",
        "\n",
        "\n",
        "class NeuralNet(object):\n",
        "    def __init__(self):\n",
        "        # Generate random numbers\n",
        "        random.seed(1)\n",
        "\n",
        "        # Assign random weights to a 3 x 1 matrix,\n",
        "        self.synaptic_weights = 2 * random.random((3, 1)) - 1\n",
        "\n",
        "    # The Sigmoid function\n",
        "    def __sigmoid(self, x):\n",
        "        return 1 / (1 + exp(-x))\n",
        "\n",
        "    # The derivative of the Sigmoid function.\n",
        "    # This is the gradient of the Sigmoid curve.\n",
        "    def __sigmoid_derivative(self, x):\n",
        "        return x * (1 - x)\n",
        "\n",
        "    # Train the neural network and adjust the weights each time.\n",
        "    def train(self, inputs, outputs, training_iterations):\n",
        "        for iteration in xrange(training_iterations):\n",
        "            # Pass the training set through the network.\n",
        "            output = self.learn(inputs)\n",
        "\n",
        "            # Calculate the error\n",
        "            error = outputs - output\n",
        "\n",
        "            # Adjust the weights by a factor\n",
        "            factor = dot(inputs.T, error * self.__sigmoid_derivative(output))\n",
        "            self.synaptic_weights += factor\n",
        "\n",
        "        # The neural network thinks.\n",
        "\n",
        "    def learn(self, inputs):\n",
        "        return self.__sigmoid(dot(inputs, self.synaptic_weights))\n",
        "\n",
        "\n",
        "if __name__ == \"__main__\":\n",
        "    # Initialize\n",
        "    neural_network = NeuralNet()\n",
        "\n",
        "    # The training set.\n",
        "    inputs = array([[0, 1, 1], [1, 0, 0], [1, 0, 1]])\n",
        "    outputs = array([[1, 0, 1]]).T\n",
        "\n",
        "    # Train the neural network\n",
        "    neural_network.train(inputs, outputs, 10000)\n",
        "\n",
        "    # Test the neural network with a test example.\n",
        "    print(neural_network.learn(array([1, 0, 1])))"
      ],
      "metadata": {
        "id": "2IugkDGhXZ6T",
        "colab": {
          "base_uri": "https://localhost:8080/"
        },
        "outputId": "7e048c79-21e3-412d-87b3-28abedc5154b"
      },
      "execution_count": 2,
      "outputs": [
        {
          "output_type": "stream",
          "name": "stdout",
          "text": [
            "[0.9897704]\n"
          ]
        }
      ]
    },
    {
      "cell_type": "code",
      "source": [],
      "metadata": {
        "id": "vESMoNmQYl9b"
      },
      "execution_count": null,
      "outputs": []
    }
  ]
}

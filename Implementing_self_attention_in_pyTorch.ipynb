{
  "nbformat": 4,
  "nbformat_minor": 0,
  "metadata": {
    "colab": {
      "provenance": [],
      "authorship_tag": "ABX9TyMUmVod5U8QRlgHagRFEqM9",
      "include_colab_link": true
    },
    "kernelspec": {
      "name": "python3",
      "display_name": "Python 3"
    },
    "language_info": {
      "name": "python"
    }
  },
  "cells": [
    {
      "cell_type": "markdown",
      "metadata": {
        "id": "view-in-github",
        "colab_type": "text"
      },
      "source": [
        "<a href=\"https://colab.research.google.com/github/bhavyajethi/Deep-Learning-practice/blob/main/Implementing_self_attention_in_pyTorch.ipynb\" target=\"_parent\"><img src=\"https://colab.research.google.com/assets/colab-badge.svg\" alt=\"Open In Colab\"/></a>"
      ]
    },
    {
      "cell_type": "code",
      "source": [
        "pip install torchtyping"
      ],
      "metadata": {
        "colab": {
          "base_uri": "https://localhost:8080/"
        },
        "id": "CEM_ettqCdFw",
        "outputId": "943c8025-baff-4d24-bbb0-84628c8371d9"
      },
      "execution_count": 5,
      "outputs": [
        {
          "output_type": "stream",
          "name": "stdout",
          "text": [
            "Requirement already satisfied: torchtyping in /usr/local/lib/python3.12/dist-packages (0.1.5)\n",
            "Requirement already satisfied: torch>=1.7.0 in /usr/local/lib/python3.12/dist-packages (from torchtyping) (2.8.0+cu126)\n",
            "Requirement already satisfied: typeguard<3,>=2.11.1 in /usr/local/lib/python3.12/dist-packages (from torchtyping) (2.13.3)\n",
            "Requirement already satisfied: filelock in /usr/local/lib/python3.12/dist-packages (from torch>=1.7.0->torchtyping) (3.19.1)\n",
            "Requirement already satisfied: typing-extensions>=4.10.0 in /usr/local/lib/python3.12/dist-packages (from torch>=1.7.0->torchtyping) (4.15.0)\n",
            "Requirement already satisfied: setuptools in /usr/local/lib/python3.12/dist-packages (from torch>=1.7.0->torchtyping) (75.2.0)\n",
            "Requirement already satisfied: sympy>=1.13.3 in /usr/local/lib/python3.12/dist-packages (from torch>=1.7.0->torchtyping) (1.13.3)\n",
            "Requirement already satisfied: networkx in /usr/local/lib/python3.12/dist-packages (from torch>=1.7.0->torchtyping) (3.5)\n",
            "Requirement already satisfied: jinja2 in /usr/local/lib/python3.12/dist-packages (from torch>=1.7.0->torchtyping) (3.1.6)\n",
            "Requirement already satisfied: fsspec in /usr/local/lib/python3.12/dist-packages (from torch>=1.7.0->torchtyping) (2025.3.0)\n",
            "Requirement already satisfied: nvidia-cuda-nvrtc-cu12==12.6.77 in /usr/local/lib/python3.12/dist-packages (from torch>=1.7.0->torchtyping) (12.6.77)\n",
            "Requirement already satisfied: nvidia-cuda-runtime-cu12==12.6.77 in /usr/local/lib/python3.12/dist-packages (from torch>=1.7.0->torchtyping) (12.6.77)\n",
            "Requirement already satisfied: nvidia-cuda-cupti-cu12==12.6.80 in /usr/local/lib/python3.12/dist-packages (from torch>=1.7.0->torchtyping) (12.6.80)\n",
            "Requirement already satisfied: nvidia-cudnn-cu12==9.10.2.21 in /usr/local/lib/python3.12/dist-packages (from torch>=1.7.0->torchtyping) (9.10.2.21)\n",
            "Requirement already satisfied: nvidia-cublas-cu12==12.6.4.1 in /usr/local/lib/python3.12/dist-packages (from torch>=1.7.0->torchtyping) (12.6.4.1)\n",
            "Requirement already satisfied: nvidia-cufft-cu12==11.3.0.4 in /usr/local/lib/python3.12/dist-packages (from torch>=1.7.0->torchtyping) (11.3.0.4)\n",
            "Requirement already satisfied: nvidia-curand-cu12==10.3.7.77 in /usr/local/lib/python3.12/dist-packages (from torch>=1.7.0->torchtyping) (10.3.7.77)\n",
            "Requirement already satisfied: nvidia-cusolver-cu12==11.7.1.2 in /usr/local/lib/python3.12/dist-packages (from torch>=1.7.0->torchtyping) (11.7.1.2)\n",
            "Requirement already satisfied: nvidia-cusparse-cu12==12.5.4.2 in /usr/local/lib/python3.12/dist-packages (from torch>=1.7.0->torchtyping) (12.5.4.2)\n",
            "Requirement already satisfied: nvidia-cusparselt-cu12==0.7.1 in /usr/local/lib/python3.12/dist-packages (from torch>=1.7.0->torchtyping) (0.7.1)\n",
            "Requirement already satisfied: nvidia-nccl-cu12==2.27.3 in /usr/local/lib/python3.12/dist-packages (from torch>=1.7.0->torchtyping) (2.27.3)\n",
            "Requirement already satisfied: nvidia-nvtx-cu12==12.6.77 in /usr/local/lib/python3.12/dist-packages (from torch>=1.7.0->torchtyping) (12.6.77)\n",
            "Requirement already satisfied: nvidia-nvjitlink-cu12==12.6.85 in /usr/local/lib/python3.12/dist-packages (from torch>=1.7.0->torchtyping) (12.6.85)\n",
            "Requirement already satisfied: nvidia-cufile-cu12==1.11.1.6 in /usr/local/lib/python3.12/dist-packages (from torch>=1.7.0->torchtyping) (1.11.1.6)\n",
            "Requirement already satisfied: triton==3.4.0 in /usr/local/lib/python3.12/dist-packages (from torch>=1.7.0->torchtyping) (3.4.0)\n",
            "Requirement already satisfied: mpmath<1.4,>=1.1.0 in /usr/local/lib/python3.12/dist-packages (from sympy>=1.13.3->torch>=1.7.0->torchtyping) (1.3.0)\n",
            "Requirement already satisfied: MarkupSafe>=2.0 in /usr/local/lib/python3.12/dist-packages (from jinja2->torch>=1.7.0->torchtyping) (3.0.2)\n"
          ]
        }
      ]
    },
    {
      "cell_type": "code",
      "execution_count": 6,
      "metadata": {
        "id": "H5HQpZPS5O38"
      },
      "outputs": [],
      "source": [
        "import torch\n",
        "import torch.nn as nn\n",
        "from torchtyping import TensorType"
      ]
    },
    {
      "cell_type": "code",
      "source": [
        "class SingleHeadAttention(nn.Module):\n",
        "  \"\"\"single attention head\"\"\"\n",
        "  def __init__(self, embeddding_dim: int, attention_dim: int):\n",
        "    super().__init__()\n",
        "    torch.manual_seed(0)\n",
        "\n",
        "    # initializing weights\n",
        "    self.wk = nn.Linear(embeddding_dim, attention_dim, bias=False) # [batch_size, num_words, emdedding_dim]\n",
        "    self.wq = nn.Linear(embeddding_dim, attention_dim, bias=False) # [batch_size, num_words, emdedding_dim]\n",
        "    self.wv = nn.Linear(embeddding_dim, attention_dim, bias=False) # [batch_size, num_words, emdedding_dim]"
      ],
      "metadata": {
        "id": "_tzLdW-iCH58"
      },
      "execution_count": 7,
      "outputs": []
    },
    {
      "cell_type": "code",
      "source": [
        "def forward(self, embedded: TensorType[float]) -> TensorType[float]:\n",
        "  \"\"\"calculating query key value\"\"\"\n",
        "  q = self.wq(embedded) # [num_sentence, num_words, attn_dim]\n",
        "  k = self.wq(embedded) # [num_sentence, num_words, attn_dim]\n",
        "  v = self.wq(embedded) # [num_sentence, num_words, attn_dim]\n",
        "\n",
        "  # calculating attention score\n",
        "  attn_score = q @ torch.transpose(k, 1, 2) / (k.shape(-1)**0.5) # [batch_size, num_words, num_words]\n",
        "\n",
        "  # below is for masking in decoder block, comment it for encoder block\n",
        "\n",
        "  # upper triangular mask is applied to prevent attending to future positions in the sequence (useful in autoregressive models). The scores are then normalized using softmax.\n",
        "  upper_triangular = torch.triu(attn_score, diagonal=1).bool()\n",
        "  attn_score[upper_triangular] = float('inf')\n",
        "\n",
        "  # applying softmax\n",
        "  softmax_score = nn.functional.softmax(attn_score, dim=-1)\n",
        "\n",
        "  # weighted scores, by multiplying softmax of attention_score with values\n",
        "  weighted_values = softmax_score @ v\n",
        "\n",
        "  return weighted_values"
      ],
      "metadata": {
        "id": "sdfYUwwOFYxp"
      },
      "execution_count": 8,
      "outputs": []
    },
    {
      "cell_type": "code",
      "source": [],
      "metadata": {
        "id": "fVUs58aBGtVk"
      },
      "execution_count": 8,
      "outputs": []
    }
  ]
}